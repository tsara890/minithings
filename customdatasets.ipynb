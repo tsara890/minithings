{
 "cells": [
  {
   "cell_type": "code",
   "execution_count": null,
   "metadata": {},
   "outputs": [],
   "source": [
    "#Creating custom dataset from OxfordIIITPet dataset practice -> wrote this on GoogleColab\n",
    "\n",
    "import torch\n",
    "import torchvision\n",
    "\n",
    "import torchvision.datasets as datasets\n",
    "import torchvision.transforms as transforms\n",
    "\n",
    "import pathlib\n",
    "data_dir = pathlib.Path(\"data/\")"
   ]
  },
  {
   "cell_type": "code",
   "execution_count": null,
   "metadata": {},
   "outputs": [],
   "source": [
    "train_data = datasets.OxfordIIITPet(root=data_dir,\n",
    "                                    split=\"trainval\",\n",
    "                                    download=\"True\")\n",
    "\n",
    "test_data = datasets.OxfordIIITPet(root=data_dir,\n",
    "                                   split=\"test\",\n",
    "                                   download=\"True\")"
   ]
  },
  {
   "cell_type": "code",
   "execution_count": null,
   "metadata": {},
   "outputs": [],
   "source": [
    "import random\n",
    "\n",
    "image_path = data_dir / \"oxford-iiit-pet\" / \"images\"\n",
    "target_classes = [\"Abyssinian\", \"beagle\", \"boxer\", \"Ragdoll\"]\n",
    "\n",
    "def get_subset(image_path=image_path,\n",
    "               data_splits=[\"trainval\", \"test\"],\n",
    "               target_classes=target_classes,\n",
    "               amount=0.2):\n",
    "  label_splits = {}\n",
    "\n",
    "  for data_split in data_splits:\n",
    "    print(f\"Creating image split for: {data_split}\")\n",
    "    label_path = data_dir / \"oxford-iiit-pet\" / \"annotations\" / f\"{data_split}.txt\"\n",
    "    with open(label_path, \"r\") as f:\n",
    "      labels = [line.strip(\"\\n\") for line in f.readlines() if line.split(\"_\")[0] in target_classes]\n",
    "\n",
    "    #if data_split == \"test\":\n",
    "      #num_to_sample = round(amount*len(labels))\n",
    "    #else:\n",
    "      #num_to_sample = round(amount*2*len(labels))\n",
    "    print(f\"Getting {len(labels)} images for {data_split}...\")\n",
    "    #sampled_images = random.sample(labels, k=num_to_sample)\n",
    "\n",
    "    image_paths = [pathlib.Path(str(image_path / str(sample_image)).split(\" \")[0] + \".jpg\") for sample_image in labels]\n",
    "    label_splits[data_split] = image_paths\n",
    "  return label_splits\n",
    "\n",
    "label_splits = get_subset()"
   ]
  },
  {
   "cell_type": "code",
   "execution_count": null,
   "metadata": {},
   "outputs": [],
   "source": [
    "label_splits[\"trainval\"][:10]"
   ]
  },
  {
   "cell_type": "code",
   "execution_count": null,
   "metadata": {},
   "outputs": [],
   "source": [
    "target_dir_name = \"petdata/dog_and_cat\"\n",
    "target_dir = pathlib.Path(target_dir_name)\n",
    "target_dir.mkdir(parents=True, exist_ok=True)"
   ]
  },
  {
   "cell_type": "code",
   "execution_count": null,
   "metadata": {},
   "outputs": [],
   "source": [
    "dest_dir_test = target_dir / \"train\" / str(img_path.name).split(\"_\")[0] / img_path.name\n",
    "dest_dir_test, dest_dir_test.parent"
   ]
  },
  {
   "cell_type": "code",
   "execution_count": null,
   "metadata": {},
   "outputs": [],
   "source": [
    "import shutil\n",
    "\n",
    "for label_split in label_splits.keys():\n",
    "  for image_path in label_splits[str(label_split)]:\n",
    "    dest_dir = target_dir / label_split / str(image_path.name).split(\"_\")[0] / image_path.name\n",
    "    if not dest_dir.parent.is_dir():\n",
    "      dest_dir.parent.mkdir(parents=True, exist_ok=True)\n",
    "    print(f\"[INFO] Copying {image_path} to {dest_dir}...\")\n",
    "    shutil.copy2(image_path, dest_dir)\n"
   ]
  },
  {
   "cell_type": "code",
   "execution_count": null,
   "metadata": {},
   "outputs": [],
   "source": [
    "import os\n",
    "\n",
    "def walk_through_dir(dir_path):\n",
    "  for dirpath, dirnames, filenames in os.walk(dir_path):\n",
    "    print(f\"There {len(dirnames)} directories and {len(filenames)} images in {dirpath}\")\n",
    "\n",
    "walk_through_dir(target_dir)"
   ]
  },
  {
   "cell_type": "code",
   "execution_count": null,
   "metadata": {},
   "outputs": [],
   "source": [
    "zip_file_name = data_dir / \"dog_and_cat_imgs\"\n",
    "shutil.make_archive(zip_file_name, \n",
    "                    format=\"zip\", \n",
    "                    root_dir=target_dir)"
   ]
  }
 ],
 "metadata": {
  "kernelspec": {
   "display_name": "base",
   "language": "python",
   "name": "python3"
  },
  "language_info": {
   "name": "python",
   "version": "3.10.9"
  },
  "orig_nbformat": 4
 },
 "nbformat": 4,
 "nbformat_minor": 2
}
